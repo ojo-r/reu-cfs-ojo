{
 "cells": [
  {
   "cell_type": "markdown",
   "metadata": {},
   "source": [
    "## Discussion: Assertions and Loop Invariants\n",
    "\n",
    "\n",
    "<br>\n",
    "university of miami\n",
    "<br>\n",
    "REU summer 2022\n",
    "<br>\n",
    "Burton Rosenberg.\n",
    "<br>\n",
    "<br>last update: May 23, 2022\n",
    "\n",
    "### Assertions and Loop Invariants\n",
    "\n",
    "\n",
    "In this section we will discuss matters that pertain to all programming languges. We will discuss a certain method for getting correct code. We will exercise those methods to help write two classic sorting algorithems: selection sort and insertion sort.\n",
    "\n",
    "An _assertion_ is a logical statement that must be true if the code is correctly functionning.\n",
    "\n",
    "A block of code as _preconditions_, which are the assertions that it requires, and _postconditions_, where are the assertions it guarantess.\n",
    "\n",
    "The method conceptualizes programming as the sequencing of code blocks so postconditions of the directly preceeding block match the preconditions of the directly following block.\n",
    "\n",
    "Python has an assert statement, that can run the assertion, which is otherwise just something a programmer keeps abstractly in mind. In is a good way to test correctness, and a good way to localize a bug when something goes wrong. \n",
    "\n",
    "(In production code the assertions must be removed, because when an assertion fails the computer goes geek-speak, and your retail audience will not be impressed.)\n",
    "\n",
    "Here follows an example. The distance function is the absolute value of the difference of two numbers. For the purposes of this example, we avoid the absolute value by placing the numbers in a known value order and doing a signed subtraction, which we know will come out postitive.\n",
    "\n",
    "Step one, then, is placing the numbers in the known value ordering. Step two is calculating a weakened form of the distance function, one which assumes the first numberis never larger than the second. The step one sets up a postcondition that is the precondition needed for correctness for step two.\n",
    "\n"
   ]
  },
  {
   "cell_type": "code",
   "execution_count": 1,
   "metadata": {},
   "outputs": [
    {
     "name": "stdout",
     "output_type": "stream",
     "text": [
      "at least it is symmetric\n"
     ]
    }
   ],
   "source": [
    "\n",
    "\n",
    "def distance(x,y):\n",
    "    \"\"\"\n",
    "    find the distance between x and y\n",
    "    \"\"\"\n",
    "    \n",
    "    # two blocks of code, the postcondition of the first matches the\n",
    "    # precondition of the second.\n",
    "    # the __purpose__ of the first is to make all preconditions of the\n",
    "    # second block true. \n",
    "    # we will check this with python's assert statement\n",
    "\n",
    "    # this also demonstrates pythons multiple assignments\n",
    "    x, y = min(x,y), max(x,y)\n",
    "    \n",
    "    # postcondition x<=y\n",
    "\n",
    "    assert x<y\n",
    "    \n",
    "    # precondition for corrects (since we do not use absolute value): x<=y\n",
    "    return y-x\n",
    "\n",
    "\n",
    "def test_distance():\n",
    "    if distance(7,3)==distance(3,7):\n",
    "        print(\"at least it is symmetric\")\n",
    "    else:\n",
    "        print(\"broken!\")\n",
    "\n",
    "test_distance()"
   ]
  },
  {
   "cell_type": "markdown",
   "metadata": {},
   "source": [
    "### Loop Invariants\n",
    "\n",
    "Loops (for, while, self-recursion) can be difficult to prove correct. They are even difficult to prove that the loop will not get stuck and run forever, that there is an eventual exiting of the loop, i.e. that the loop terminates. So we break the correctness proof into two elements,\n",
    "\n",
    "* that the loop would be correct if loop terminates, and\n",
    "* that the loop terminates\n",
    "\n",
    "Thinking about loops in this way already improves coding. Non-terminating loops are common, and they might show up after the program is considered correct, because a sly combination of values and events occurs, which send the termination reasoning off its unjustifiably optimistic course.\n",
    "\n",
    "Mentally unwind the loop by placing it as a self-reproduced sequence of blocks,\n",
    "\n",
    ">  while block-x  (is transformed into)  block-x block-x ....\n",
    "\n",
    "Which we know will be a finite sequence but that is not our interest now. By the language of pre- and postconditions the loop block's precondition equals its postcondition, and this summarizes entirely correctness. The common assertion is called the _loop invariant_.\n",
    "\n",
    "If the loop invariant holds, and termination is given, then the loop is correct. Here it is in pseudo-mathematics,\n",
    "\n",
    "> LoopInvariant + Termination => Goal\n",
    "\n",
    "The Loop Invariant is defined to be true before the loop block is ever entered. Usually this is done by making an Loop Invariant that is _trivially true_ for the loop is ever entered. The each time through the loop, the code makes progress towards the goal but perhaps disturbing the invariant while it works, but it returns it true at the bottom of the loop, as the prerequisite for the next entry to the loop.\n",
    "\n",
    "The Loop Invariant must be written to summarize the point of the loop, so that at termination one can conclude that the goal has been reached. Often the Loop Invariant is too complicated to actually write an Python assert statement, and is written in prose or combined prose-mathematics.\n",
    "\n",
    "Here is an example that is a bit contrived, but it will allow us the demonstrate the loop invariant with actuall assert statements.\n"
   ]
  },
  {
   "cell_type": "code",
   "execution_count": 2,
   "metadata": {},
   "outputs": [
    {
     "name": "stdout",
     "output_type": "stream",
     "text": [
      "correct!\n"
     ]
    }
   ],
   "source": [
    "\n",
    "def find_min(a):\n",
    "    \"\"\"\n",
    "    find the minimum in list a using loop invariants\n",
    "    \"\"\"\n",
    "    \n",
    "    # min only exists for non-empty lists, that is a precondition\n",
    "    if len(a)==0 : return None\n",
    "    # postcondition, the list is non-empty\n",
    "    \n",
    "    # check the precondition\n",
    "    assert len(a)>0 \n",
    "    \n",
    "    cur = a[0]  # this is correct because a is non-empty\n",
    "    \n",
    "    # L.I. cur is the minimum over the first i elements of the list a\n",
    "    \n",
    "    # L.I. trivially true for the first 1 elements\n",
    "    assert cur==min(a[:1])\n",
    "\n",
    "    for i in range(2,len(a)):\n",
    "        # L.I. might not be true here! i just got one bigger!\n",
    "        if a[i-1]<cur:\n",
    "            # if so, fix it\n",
    "            cur = a[i-1]\n",
    "\n",
    "        # assert L.I.\n",
    "        assert cur==min(a[:i])\n",
    "\n",
    "    # Loop terminates because the loop condition is finite\n",
    "    # termination implies cur == min(a[:n]) which is equal to min(a)\n",
    "    return cur\n",
    "\n",
    "def test_find_min():\n",
    "    test = [19*i%33 for i in range(1,33)]\n",
    "    ans = min(test)\n",
    "    if find_min(test)==ans:\n",
    "        print(\"correct!\")\n",
    "    else:\n",
    "        print(\"broken!\")\n",
    "    \n",
    "test_find_min()"
   ]
  },
  {
   "cell_type": "markdown",
   "metadata": {},
   "source": [
    "### Bonus discussion: data structure invariants\n",
    "\n",
    "The method of loop invariants can be extended to data. A _datastructure invariant_ is an assertion about the values in the datastructure that can be made before and after an update to the datastructure.\n",
    "\n"
   ]
  },
  {
   "cell_type": "code",
   "execution_count": null,
   "metadata": {},
   "outputs": [],
   "source": []
  }
 ],
 "metadata": {
  "kernelspec": {
   "display_name": "Python 3 (ipykernel)",
   "language": "python",
   "name": "python3"
  },
  "language_info": {
   "codemirror_mode": {
    "name": "ipython",
    "version": 3
   },
   "file_extension": ".py",
   "mimetype": "text/x-python",
   "name": "python",
   "nbconvert_exporter": "python",
   "pygments_lexer": "ipython3",
   "version": "3.9.7"
  }
 },
 "nbformat": 4,
 "nbformat_minor": 2
}
