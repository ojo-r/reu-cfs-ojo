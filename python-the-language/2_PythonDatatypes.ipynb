{
 "cells": [
  {
   "cell_type": "markdown",
   "metadata": {},
   "source": [
    "## Python datatypes\n",
    "\n",
    "----\n",
    "\n",
    "Burton Rosenberg\n",
    "\n",
    "University of Miami\n",
    "\n",
    "copyright 2023 burton rosenberg all rights reserved\n",
    "\n",
    "\n",
    "----\n",
    "\n",
    "### Table of contents.\n",
    "\n",
    "1. <a href=\"#introduction\">Introduction</a>\n",
    "1. <a href=\"#introspection\">Introspection</a>\n",
    "1. <a href=\"#lists\">Lists</a>\n",
    "1. <a href=\"#dictionaries\">Dictionaries</a>\n",
    "1. <a href=\"#tuples\">Tuples</a>\n",
    "1. <a href=\"#slices\">Slices</a>\n",
    "    \n",
    "    \n",
    "### <a name=introduction>Introduction</a>\n",
    "\n",
    "In Python, everything is an object. Objects are instances of classes, and the classes themselves have an object of type `Class` class to represent the class.\n",
    "\n",
    "Python also support inheritance, putting classses into a hierarchy in which the methods of the parent (the super class) are present in the child (the sub-class). The base class, super to all, is the class of type `object` and has very important methods needed to make they class system function. \n",
    "\n",
    "As an interpreted language, Python allows for _object introspection_. The program can learn the methods, properties, and class of an object by invoking functions on the object. Among these are,\n",
    "\n",
    "- the `id` function, returning an identifier of that object instance, \n",
    "- the `dir` function, returning a list of method names implemented by the object, \n",
    "- the `type` function, returning the name of the precise class of the object,\n",
    "- the `super` function applied to a type gives the exact supetype of that type.\n",
    "\n",
    "Certain objects share a base class, and provide a standard behavoir by implementing a standard method. The `iter` method is shared by all objects that support iteration. The `iter` method returns an iteration object with a next method, and an exception. Iteration constructs of the Python language apply to any object implementing these methods.\n",
    "\n",
    "#### Primitive types\n",
    "\n",
    "Other kinds of types are `primitive` that are transparently instanatiated and are immutable. The object of type `integer` with value 1 represents the integer number 1 and will always equal 1. All instantiations of 1 are equal in every way.\n",
    "\n",
    "#### Immutable types\n",
    "\n",
    "Some types cannot change values. The class `string` is immutable. The string object 'hello world cannot be modified; all modifications will create a new string instead. \n",
    "\n",
    "To be a key in a dictionary, the value must be immutable. While the type `list` is mutable, the type `tuple` is immutable. Lists cannot be keys to dictionaries, but tuples can. \n",
    "\n",
    "There is the mutable type `set` and the immutable type of similar abilities called `frozenset`.\n",
    "\n",
    "#### Sequence types\n",
    "\n",
    "Sequence types can be used as an iterator. They implement various methods and exceptions that are natively known to the Python runtime, so that the act properly in `for` constructs. Advanced programming can implement these methods for any object, and they will then also be a sequence type.\n",
    "\n",
    "\n"
   ]
  },
  {
   "cell_type": "markdown",
   "metadata": {
    "collapsed": true
   },
   "source": [
    "### <a name=introspection>Introspection</a>\n",
    "\n",
    "The following are some experiments in introspection."
   ]
  },
  {
   "cell_type": "code",
   "execution_count": 1,
   "metadata": {},
   "outputs": [
    {
     "name": "stdout",
     "output_type": "stream",
     "text": [
      "\"type:\",<class 'int'>\n",
      "\"id:\", 140318326581552\n",
      "\"implements:\", ['__abs__', '__add__', '__and__', '__bool__', '__ceil__', '__class__', '__delattr__', '__dir__', '__divmod__', '__doc__', '__eq__', '__float__', '__floor__', '__floordiv__', '__format__', '__ge__', '__getattribute__', '__getnewargs__', '__gt__', '__hash__', '__index__', '__init__', '__init_subclass__', '__int__', '__invert__', '__le__', '__lshift__', '__lt__', '__mod__', '__mul__', '__ne__', '__neg__', '__new__', '__or__', '__pos__', '__pow__', '__radd__', '__rand__', '__rdivmod__', '__reduce__', '__reduce_ex__', '__repr__', '__rfloordiv__', '__rlshift__', '__rmod__', '__rmul__', '__ror__', '__round__', '__rpow__', '__rrshift__', '__rshift__', '__rsub__', '__rtruediv__', '__rxor__', '__setattr__', '__sizeof__', '__str__', '__sub__', '__subclasshook__', '__truediv__', '__trunc__', '__xor__', 'as_integer_ratio', 'bit_length', 'conjugate', 'denominator', 'from_bytes', 'imag', 'numerator', 'real', 'to_bytes']\n"
     ]
    }
   ],
   "source": [
    "a = 1 ;\n",
    "print (f'\"type:\",{type(a)}') ;\n",
    "print (f'\"id:\", {id(a)}' );\n",
    "print (f'\"implements:\", {dir(a)}') ;"
   ]
  },
  {
   "cell_type": "code",
   "execution_count": 2,
   "metadata": {},
   "outputs": [
    {
     "name": "stdout",
     "output_type": "stream",
     "text": [
      "1+1==2 ? True\n",
      "2 == 4/2 ? False!\n",
      "\tBecause the type of 4/2 is: <class 'float'>\n",
      "2 == 4//2 ? False!\n",
      "\tBecause the type of 4//2 is: <class 'float'>\n"
     ]
    }
   ],
   "source": [
    "print (f'1+1==2 ? {id(2)==id(1+1)}')\n",
    "print (f'2 == 4/2 ? {id(2)==id(4/2)}!\\n\\tBecause the type of 4/2 is: {type(4/2)}'  )\n",
    "print (f'2 == 4//2 ? {id(2)==id(4/2)}!\\n\\tBecause the type of 4//2 is: {type(4/2)}'  )"
   ]
  },
  {
   "cell_type": "code",
   "execution_count": 3,
   "metadata": {},
   "outputs": [
    {
     "name": "stdout",
     "output_type": "stream",
     "text": [
      "\"type:\",<class 'str'>\n",
      "\"id:\", 140317789733680\n",
      "\"implements:\", ['__add__', '__class__', '__contains__', '__delattr__', '__dir__', '__doc__', '__eq__', '__format__', '__ge__', '__getattribute__', '__getitem__', '__getnewargs__', '__gt__', '__hash__', '__init__', '__init_subclass__', '__iter__', '__le__', '__len__', '__lt__', '__mod__', '__mul__', '__ne__', '__new__', '__reduce__', '__reduce_ex__', '__repr__', '__rmod__', '__rmul__', '__setattr__', '__sizeof__', '__str__', '__subclasshook__', 'capitalize', 'casefold', 'center', 'count', 'encode', 'endswith', 'expandtabs', 'find', 'format', 'format_map', 'index', 'isalnum', 'isalpha', 'isascii', 'isdecimal', 'isdigit', 'isidentifier', 'islower', 'isnumeric', 'isprintable', 'isspace', 'istitle', 'isupper', 'join', 'ljust', 'lower', 'lstrip', 'maketrans', 'partition', 'removeprefix', 'removesuffix', 'replace', 'rfind', 'rindex', 'rjust', 'rpartition', 'rsplit', 'rstrip', 'split', 'splitlines', 'startswith', 'strip', 'swapcase', 'title', 'translate', 'upper', 'zfill']\n"
     ]
    }
   ],
   "source": [
    "a = \"abc\" ;\n",
    "print (f'\"type:\",{type(a)}') ;\n",
    "print (f'\"id:\", {id(a)}' );\n",
    "print (f'\"implements:\", {dir(a)}') ;"
   ]
  },
  {
   "cell_type": "markdown",
   "metadata": {},
   "source": [
    "### <a name=\"lists\">Lists</a>\n",
    "\n",
    "A favorite since the creation of LISP in the 50's, the list data type is easy to understand and easy to use. Python adds to a list that it is also indexable so that the first, second, and so on, element can be accessed using the square bracket notation.\n",
    "\n",
    "I list is sequence of elements, with literal represention a square bracket enclosed, comma separated sequence. Lists have definite length, retrieved by the `len` [built-in](https://docs.python.org/3/library/functions.html). They are examples of the [sequence types](https://docs.python.org/3/library/stdtypes.html#sequence-types-list-tuple-range).\n",
    "\n",
    "List can be constructed as empty, by a repetition operator, but their constructor, or by _list comprehension_.\n",
    "\n",
    "Lists can take a slice object for indices, this object more often implicit by the slice notation `[start]` or `[start:end]` or `[start:end:skip]`, with the defaults if the argument is missing.  The list is capable of accepting a slice object either as an L-value, on the left hand side of an assignment, or an R-value, on the right hand side of an assignment or as an expression.\n",
    "\n",
    "As an R-value, the slice selects the list at those indices and returns a list of values; as an L-value the slice indicates which indices in the list are to receive new values.\n",
    "\n",
    "The `+` is overloaded for list concatentation. The result is a new list of _shallow copies_ of the old lists. \n",
    "\n",
    "Also a shallow copy is made for a statement such as `b_list = a_list[:]`. The use of the wildcard slice `[:]` refers to the entire list, but element by element. A new list is created and will be refered to as `b_list`. An assignment such as `b_list = a_list` creates nothing new."
   ]
  },
  {
   "cell_type": "code",
   "execution_count": 4,
   "metadata": {},
   "outputs": [
    {
     "name": "stdout",
     "output_type": "stream",
     "text": [
      "len: 0, list: []\n",
      "len: 7, list: [0, 0, 0, 0, 0, 0, 0]\n",
      "len: 3, list: [0, 1, 2]\n",
      "len: 7, list: [3, 6, 2, 5, 1, 4, 0]\n"
     ]
    }
   ],
   "source": [
    "empty_list = []\n",
    "print(f'len: {len(empty_list)}, list: {empty_list}')\n",
    "n = 7\n",
    "zeros_list = [0]*n\n",
    "print(f'len: {len(zeros_list)}, list: {zeros_list}')\n",
    "constructed_list = list(range(3))\n",
    "print(f'len: {len(constructed_list)}, list: {constructed_list}')\n",
    "comprehended_list = [3*i%7 for i in range(1,8)]\n",
    "print(f'len: {len(comprehended_list)}, list: {comprehended_list}')"
   ]
  },
  {
   "cell_type": "code",
   "execution_count": 5,
   "metadata": {},
   "outputs": [
    {
     "name": "stdout",
     "output_type": "stream",
     "text": [
      "[0, 1, 2] [2, 1, 0]\n",
      "[3, 6, 2, 5, 1, 4, 0] [3, 2, 1, 0]\n",
      "[0, 6, 0, 5, 0, 4, 0]\n"
     ]
    }
   ],
   "source": [
    "print(constructed_list,constructed_list[::-1])\n",
    "print(comprehended_list,comprehended_list[::2])\n",
    "comprehended_list[::2] = zeros_list[:4]\n",
    "print(comprehended_list)\n"
   ]
  },
  {
   "cell_type": "code",
   "execution_count": 6,
   "metadata": {},
   "outputs": [
    {
     "name": "stdout",
     "output_type": "stream",
     "text": [
      "[0, 1, 2] [0, 6, 0, 5, 0, 4, 0] [0, 1, 2, 0, 6, 0, 5, 0, 4, 0]\n",
      "[0, 1, -1] [0, 6, -1, 5, 0, 4, 0] [0, 1, 2, 0, 6, 0, 5, 0, 4, 0]\n"
     ]
    }
   ],
   "source": [
    "concat_list = constructed_list+comprehended_list\n",
    "print(constructed_list,comprehended_list,concat_list)\n",
    "constructed_list[2], comprehended_list[2] = -1, -1\n",
    "print(constructed_list,comprehended_list,concat_list)"
   ]
  },
  {
   "cell_type": "code",
   "execution_count": 7,
   "metadata": {},
   "outputs": [
    {
     "name": "stdout",
     "output_type": "stream",
     "text": [
      "a_list: [[0, 1], [1, 2], [2, 3]]\n",
      "b_list: [[3, 4], [4, 5], [5, 6]]\n",
      "c_list: [[0, 1], [1, 2], [2, 3], [3, 4], [4, 5], [5, 6]]\n",
      "\n",
      "a_list: [[0, 1], ['a', 2], [2, 3]]\n",
      "b_list: [[3, 4], [4, 'b'], [5, 6]]\n",
      "c_list: [[0, 1], ['a', 2], [2, 3], [3, 4], [4, 'b'], [5, 6]]\n",
      "\n"
     ]
    }
   ],
   "source": [
    "a_list = [[i,i+1] for i in range(3)]\n",
    "b_list = [[i,i+1] for i in range(3,6)]\n",
    "c_list = a_list + b_list\n",
    "print(f'a_list: {a_list}\\nb_list: {b_list}\\nc_list: {c_list}\\n')\n",
    "a_list[1][0], b_list[1][1] = 'a', 'b'\n",
    "print(f'a_list: {a_list}\\nb_list: {b_list}\\nc_list: {c_list}\\n')"
   ]
  },
  {
   "cell_type": "markdown",
   "metadata": {},
   "source": [
    "### <a name=\"dictionaries\">Dictionaries</a>\n",
    "\n",
    "An extremely power type is the dictionary, an example of a [mapping type](https://docs.python.org/3/library/stdtypes.html#mapping-types-dict). The dictionary stores (key,value) pairs, that can be indexed by the key. The key can be any immutable object. In many ways, it can be used like a structure, with the field name being the key.\n",
    "\n",
    "Dictionaries are created as a comma separated list of key:value items, enclosed in curly braces. A dictionary is indexed using the square-brack notation, as if it were a list or tuple.\n",
    "\n",
    "As an interable, it gives a list of keys in some order. Newer versions of Python give the keys in the order they existed in the dictionary, oldest first.\n",
    "\n",
    "The `in` keyword can be used to see if a key is in the dictionary. If not, retrieval at the index gives an `KeyError` exception."
   ]
  },
  {
   "cell_type": "code",
   "execution_count": 8,
   "metadata": {},
   "outputs": [
    {
     "name": "stdout",
     "output_type": "stream",
     "text": [
      "type: <class 'dict'>, len: 2\n",
      "key: a\n",
      "key: b\n",
      "KeyError exception: 'c'\n"
     ]
    }
   ],
   "source": [
    "a = {'a':1,'b':2}\n",
    "print(f'type: {type(a)}, len: {len(a)}')\n",
    "\n",
    "for key in a:\n",
    "    print(f'key: {key}')\n",
    "    assert key in a\n",
    "    \n",
    "try:\n",
    "    a['c']\n",
    "except KeyError as e:\n",
    "    print(f'KeyError exception: {e}')\n"
   ]
  },
  {
   "cell_type": "markdown",
   "metadata": {},
   "source": [
    "### <a name=\"tuples\">Tuples</a>\n",
    "\n",
    "A [tuple](https://docs.python.org/3/library/stdtypes.html#tuples) is an immutable list. It is a squence type, and can accept a slice as an index. They are literally a parenthesis enclosed comma separated sequence. The one-element tuple uses a comma to distinguish between it and a gratuitously parenthesized expression. The elements of the tuple are accessed with the square bracket notion, and can be iterated.\n",
    "\n",
    "They are useful for returning multiple values from a function.\n",
    "\n",
    "They can be used as keys to a dictionary, when a list cannot."
   ]
  },
  {
   "cell_type": "code",
   "execution_count": 9,
   "metadata": {},
   "outputs": [
    {
     "name": "stdout",
     "output_type": "stream",
     "text": [
      "<class 'tuple'> <class 'int'> <class 'tuple'> <class 'tuple'>\n",
      "c_tup: (0, 1, 2, 3, 4)\n",
      "1 2 3 "
     ]
    }
   ],
   "source": [
    "a = ()\n",
    "b_int = (1)\n",
    "b_tup = (1,)\n",
    "c_tup = tuple([i for i in range(5)])\n",
    "\n",
    "def return_two():\n",
    "    return 1, 2, 3\n",
    "\n",
    "print(type(a),type(b_int),type(b_tup),type(return_two()))\n",
    "print(f'c_tup: {c_tup}')\n",
    "\n",
    "for i in return_two():\n",
    "    print(f'{i}',end=\" \")"
   ]
  },
  {
   "cell_type": "code",
   "execution_count": 10,
   "metadata": {},
   "outputs": [
    {
     "name": "stdout",
     "output_type": "stream",
     "text": [
      "TypeError: unhashable type: 'list'\n",
      "yes!\n"
     ]
    }
   ],
   "source": [
    "l = [1,2,3]\n",
    "try:\n",
    "    d = {l:'nope'}\n",
    "except TypeError as e:\n",
    "    print(f'TypeError: {e}')\n",
    "    \n",
    "d = {(tuple(l)):'yes!'}\n",
    "print(d[(1,2,3)])"
   ]
  },
  {
   "cell_type": "markdown",
   "metadata": {},
   "source": [
    "### <a name=\"slices\">Slices</a>\n",
    "\n",
    "The object of type [slice](https://docs.python.org/3/library/functions.html#slice}). Sequence objects can be sliced square bracket notation. The slicing allows both L-value and R-value interpretations, as was said before. \n",
    "\n",
    "It is also possible to create a slice object, using the builtin slice function.\n",
    "\n"
   ]
  },
  {
   "cell_type": "code",
   "execution_count": 11,
   "metadata": {},
   "outputs": [
    {
     "name": "stdout",
     "output_type": "stream",
     "text": [
      "l: [0, 1, 2, 3, 4, 5, 6]\n",
      "0 2 4 6 \n",
      "0 2 4 6 \n",
      "l: [-1, 1, -1, 3, -1, 5, -1]\n"
     ]
    }
   ],
   "source": [
    "\n",
    "l = [i for i in range(7)]\n",
    "print(f'l: {l}')\n",
    "for i in range(0,len(l),2):\n",
    "    print(f'{i}',end=' ')\n",
    "print()\n",
    "s = slice(0,len(l),2)\n",
    "for i in l[s]:\n",
    "    print(f'{i}',end=' ')\n",
    "print()\n",
    "l[s] = [-1]*4\n",
    "print(f'l: {l}')"
   ]
  }
 ],
 "metadata": {
  "kernelspec": {
   "display_name": "Python 3 (ipykernel)",
   "language": "python",
   "name": "python3"
  },
  "language_info": {
   "codemirror_mode": {
    "name": "ipython",
    "version": 3
   },
   "file_extension": ".py",
   "mimetype": "text/x-python",
   "name": "python",
   "nbconvert_exporter": "python",
   "pygments_lexer": "ipython3",
   "version": "3.9.7"
  }
 },
 "nbformat": 4,
 "nbformat_minor": 2
}
